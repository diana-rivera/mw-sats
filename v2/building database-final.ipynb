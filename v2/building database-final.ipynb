{
 "cells": [
  {
   "cell_type": "code",
   "execution_count": 1,
   "metadata": {},
   "outputs": [],
   "source": [
    "import numpy as np\n",
    "import pandas as pd"
   ]
  },
  {
   "cell_type": "code",
   "execution_count": 2,
   "metadata": {},
   "outputs": [],
   "source": [
    "a=pd.read_csv('coor.csv')\n",
    "a['center']=list(zip(a['center_ra'], a['center_dec'].astype(float)))\n",
    "b=pd.read_csv('dist.csv')\n",
    "c=pd.read_csv('err_ra.csv')\n",
    "c['center_ra_error']=list(zip(c['plus'], c['minus'].astype(float)))\n",
    "e=pd.read_csv('err_dec.csv')\n",
    "e['center_dec_error']=list(zip(e['plus'], e['minus'].astype(float)))"
   ]
  },
  {
   "cell_type": "code",
   "execution_count": 3,
   "metadata": {},
   "outputs": [],
   "source": [
    "gal=['draco','carina','umi','leo1','leo2','sextans','fornax','sculptor'] #classical satellite galaxies\n",
    "gal_names=pd.DataFrame({'general names':gal,'gaia names':[sub + '_gaia' for sub in gal],\n",
    "                        'mw names':[sub + '_mw' for sub in gal],'js names':[sub + '_js' for sub in gal]})"
   ]
  },
  {
   "cell_type": "code",
   "execution_count": 4,
   "metadata": {},
   "outputs": [],
   "source": [
    "num=[393,717,309,464,192,385,5603,2360] #number of stars in the galaxy data\n",
    "mass=[0.022,0.00151,'NAN',0.02,0.027,0.3,0.054,'NAN'] #billion solar masses\n",
    "#add mass, age etc for UF galaxies under _js attribute"
   ]
  },
  {
   "cell_type": "code",
   "execution_count": 5,
   "metadata": {},
   "outputs": [],
   "source": [
    "data=pd.DataFrame({'galaxies':gal,'center':a.center,'center_ra_error':c.center_ra_error,'center_dec_error':e.center_dec_error,\n",
    "                   'distance':b.dis,'diameter':b.dia,'avm':b.avm,'mass':mass,'num':num,'type':b.type})"
   ]
  },
  {
   "cell_type": "code",
   "execution_count": 6,
   "metadata": {},
   "outputs": [],
   "source": [
    "js=pd.read_csv(\"js_table.csv\")\n",
    "\n",
    "js['Mv_error']=list(zip(js['dM_V+'], js['dM_V-'].astype(float)))\n",
    "js['r1_2_error']=list(zip(js['dr_1/2+'], js['dr_1/2-'].astype(float)))\n",
    "js['dist_error']=list(zip(js['ddist+'], js['ddist-'].astype(float)))\n",
    "js['Vhel_error']=list(zip(js['dVhel+'], js['dVhel-'].astype(float)))\n",
    "js['sigma_error']=list(zip(js['dsig+'], js['dsig-'].astype(float)))\n",
    "js['Fe_H_error']=list(zip(js['d[Fe/H]+'], js['d[Fe/H]-'].astype(float)))\n",
    "js['sigFe_H_error']=list(zip(js['dsigFe/H+'], js['dsigFe/H-'].astype(float)))\n",
    "\n",
    "lc=js['dwarf'].str.lower().tolist()\n",
    "dw=[sub + '_js' for sub in lc]\n",
    "\n",
    "js['dwarf']=dw\n",
    "\n",
    "imp=js.drop(columns=['dM_V+', 'dM_V-','dr_1/2+', 'dr_1/2-','ddist+','ddist-','dVhel+','dVhel-','dsig+',\n",
    "                     'dsig-','d[Fe/H]+','d[Fe/H]-','dsigFe/H+','dsigFe/H-'])\n",
    "\n",
    "columns=imp.iloc[:,np.r_[1:15]].keys().tolist()"
   ]
  },
  {
   "cell_type": "code",
   "execution_count": 7,
   "metadata": {},
   "outputs": [
    {
     "data": {
      "text/plain": [
       "<module 'sat_array' from '/Users/diana/Desktop/research/gaia/galaxies/filtered database/sat_array.py'>"
      ]
     },
     "execution_count": 7,
     "metadata": {},
     "output_type": "execute_result"
    }
   ],
   "source": [
    "import sat_array\n",
    "from importlib import reload\n",
    "reload(sat_array)"
   ]
  },
  {
   "cell_type": "code",
   "execution_count": 8,
   "metadata": {},
   "outputs": [],
   "source": [
    "d=np.zeros(1, dtype=sat_array.mydtype).view(np.recarray)"
   ]
  },
  {
   "cell_type": "code",
   "execution_count": 9,
   "metadata": {},
   "outputs": [],
   "source": [
    "d['gals']=gal_names"
   ]
  },
  {
   "cell_type": "code",
   "execution_count": 10,
   "metadata": {},
   "outputs": [],
   "source": [
    "#Josh Simon data\n",
    "for i in range(len(dw)):\n",
    "    d[dw[i]][columns[0]]=imp.Mv[i]\n",
    "    d[dw[i]][columns[1]]=imp.Mv_error[i]\n",
    "    d[dw[i]][columns[2]]=imp.r1_2[i]\n",
    "    d[dw[i]][columns[3]]=imp.r1_2_error[i]\n",
    "    d[dw[i]][columns[4]]=imp.dist[i]\n",
    "    d[dw[i]][columns[5]]=imp.dist_error[i]\n",
    "    d[dw[i]][columns[6]]=imp.Vhel[i]\n",
    "    d[dw[i]][columns[7]]=imp.Vhel_error[i]\n",
    "    d[dw[i]][columns[8]]=imp.sigma[i]\n",
    "    d[dw[i]][columns[9]]=imp.sigma_error[i]\n",
    "    d[dw[i]][columns[10]]=imp.Fe_H[i]\n",
    "    d[dw[i]][columns[11]]=imp.Fe_H_error[i]\n",
    "    d[dw[i]][columns[12]]=imp.sigFe_H[i]\n",
    "    d[dw[i]][columns[13]]=imp.sigFe_H_error[i]"
   ]
  },
  {
   "cell_type": "code",
   "execution_count": 11,
   "metadata": {},
   "outputs": [],
   "source": [
    "#general data\n",
    "norm_names=gal_names['general names'].tolist()\n",
    "norm_cols=data.keys().tolist()\n",
    "\n",
    "for i in range(len(gal)):\n",
    "#(center ra, center dec)\n",
    "    d[norm_names[i]][norm_cols[1]]=data.center[i]\n",
    "#center ra error, center dec error\n",
    "    d[norm_names[i]][norm_cols[2]]=data.center_ra_error[i]\n",
    "    d[norm_names[i]][norm_cols[3]]=data.center_dec_error[i]\n",
    "#distance, diameter, AVM\n",
    "    d[norm_names[i]][norm_cols[4]]=data.distance[i]\n",
    "    d[norm_names[i]][norm_cols[5]]=data.diameter[i]\n",
    "    d[norm_names[i]][norm_cols[6]]=data.avm[i]\n",
    "#mass\n",
    "    d[norm_names[i]][norm_cols[7]]=data.mass[i]\n",
    "#num\n",
    "    d[norm_names[i]][norm_cols[8]]=data.num[i]\n",
    "#type\n",
    "    d[norm_names[i]][norm_cols[9]]=data.type[i]"
   ]
  },
  {
   "cell_type": "code",
   "execution_count": null,
   "metadata": {},
   "outputs": [],
   "source": []
  },
  {
   "cell_type": "code",
   "execution_count": null,
   "metadata": {},
   "outputs": [],
   "source": []
  },
  {
   "cell_type": "code",
   "execution_count": null,
   "metadata": {},
   "outputs": [],
   "source": []
  },
  {
   "cell_type": "code",
   "execution_count": 12,
   "metadata": {},
   "outputs": [],
   "source": [
    "#general & mw data\n",
    "draco=pd.read_csv('draco_filtered.csv')\n",
    "gaia_names=gal_names['gaia names'].tolist()\n",
    "gaia_cols=draco.keys().tolist()\n",
    "\n",
    "draco_mw=pd.read_csv('draco_mw.csv')\n",
    "mw_names=gal_names['mw names'].tolist()\n",
    "mw_cols=draco_mw.keys().tolist()\n",
    "    "
   ]
  },
  {
   "cell_type": "code",
   "execution_count": null,
   "metadata": {},
   "outputs": [],
   "source": []
  },
  {
   "cell_type": "code",
   "execution_count": null,
   "metadata": {},
   "outputs": [],
   "source": []
  },
  {
   "cell_type": "code",
   "execution_count": null,
   "metadata": {},
   "outputs": [],
   "source": []
  },
  {
   "cell_type": "markdown",
   "metadata": {},
   "source": [
    "# CARINA"
   ]
  },
  {
   "cell_type": "code",
   "execution_count": 13,
   "metadata": {},
   "outputs": [],
   "source": [
    "carina=pd.read_csv('carina_filtered.csv')\n",
    "carina_mw=pd.read_csv('carina_mw.csv')"
   ]
  },
  {
   "cell_type": "markdown",
   "metadata": {},
   "source": [
    "# UMI"
   ]
  },
  {
   "cell_type": "code",
   "execution_count": 14,
   "metadata": {},
   "outputs": [],
   "source": [
    "umi=pd.read_csv('ursmin_filtered.csv')\n",
    "umi_mw=pd.read_csv('ursaminor_mw.csv')"
   ]
  },
  {
   "cell_type": "markdown",
   "metadata": {},
   "source": [
    "# LEO1"
   ]
  },
  {
   "cell_type": "code",
   "execution_count": 15,
   "metadata": {},
   "outputs": [],
   "source": [
    "leo1=pd.read_csv('leo1_filtered.csv')\n",
    "leo1_mw=pd.read_csv('leo1_mw.csv')"
   ]
  },
  {
   "cell_type": "markdown",
   "metadata": {},
   "source": [
    "# LEO2"
   ]
  },
  {
   "cell_type": "code",
   "execution_count": 16,
   "metadata": {},
   "outputs": [],
   "source": [
    "leo2=pd.read_csv('leo2_filtered.csv')\n",
    "leo2_mw=pd.read_csv('leo2_mw.csv')"
   ]
  },
  {
   "cell_type": "markdown",
   "metadata": {},
   "source": [
    "# SEXTANS"
   ]
  },
  {
   "cell_type": "code",
   "execution_count": 17,
   "metadata": {},
   "outputs": [],
   "source": [
    "sextans=pd.read_csv('sextans_filtered.csv')\n",
    "sextans_mw=pd.read_csv('sextans_mw.csv')"
   ]
  },
  {
   "cell_type": "markdown",
   "metadata": {},
   "source": [
    "# FORNAX"
   ]
  },
  {
   "cell_type": "code",
   "execution_count": 18,
   "metadata": {},
   "outputs": [],
   "source": [
    "fornax=pd.read_csv('fornax_filtered.csv')\n",
    "fornax_mw=pd.read_csv('fornax_mw.csv')"
   ]
  },
  {
   "cell_type": "markdown",
   "metadata": {},
   "source": [
    "# SCULPTOR"
   ]
  },
  {
   "cell_type": "code",
   "execution_count": 19,
   "metadata": {},
   "outputs": [],
   "source": [
    "sculptor=pd.read_csv('sculptor_filtered.csv')\n",
    "sculptor_mw=pd.read_csv('sculptor_mw.csv')"
   ]
  },
  {
   "cell_type": "code",
   "execution_count": null,
   "metadata": {},
   "outputs": [],
   "source": []
  }
 ],
 "metadata": {
  "kernelspec": {
   "display_name": "Python 3",
   "language": "python",
   "name": "python3"
  },
  "language_info": {
   "codemirror_mode": {
    "name": "ipython",
    "version": 3
   },
   "file_extension": ".py",
   "mimetype": "text/x-python",
   "name": "python",
   "nbconvert_exporter": "python",
   "pygments_lexer": "ipython3",
   "version": "3.7.6"
  }
 },
 "nbformat": 4,
 "nbformat_minor": 4
}
