{
 "cells": [
  {
   "cell_type": "code",
   "execution_count": 1,
   "metadata": {},
   "outputs": [],
   "source": [
    "import numpy as np\n",
    "import pandas as pd"
   ]
  },
  {
   "cell_type": "code",
   "execution_count": 2,
   "metadata": {},
   "outputs": [],
   "source": [
    "gal=['Draco','Carina','Ursa Minor','Leo I','Leo II','Sextans','Fornax','Sculptor'] #classical satellite galaxies\n",
    "num=[393,717,309,464,192,385,5603,2360] #number of stars in the galaxy data\n",
    "mass=[0.022,0.00151,'NAN',0.02,0.027,0.3,0.054,'NAN'] #billion solar masses"
   ]
  },
  {
   "cell_type": "code",
   "execution_count": 3,
   "metadata": {},
   "outputs": [],
   "source": [
    "c_ra_e = [(1.8500238333333527,-1.159572166666635),(0.9540833333333438,-0.8854606666666456),(1.6546310000000233,-1.0649819999999863),(0.22913533333334613,-0.22206666666664887),(0.1490146666666874,-0.18916233333331434),(0.7542456666666908,-0.74033533333332),(0.6512696666666713,-0.7077683333333269),(0.927560333333334,-1.1646486666666647)]\n",
    "c_dec_e = [(0.5776055555555573,-0.4630864444444427),(0.5207211111111008,-0.578050888888896),(0.5522138888888861,-0.7720181111111089),(0.11233699999999835,-0.11529200000000195),(0.0951034444444474,-0.09851555555555436),(0.7472532222222223,-0.6775167777777775),(0.4850046666666614,-0.7796623333333343),(0.4837008888888832,-0.4160221111111113)]"
   ]
  },
  {
   "cell_type": "code",
   "execution_count": 4,
   "metadata": {},
   "outputs": [],
   "source": [
    "Mv_error = [(-0.05,0.05),(-0.05,0.05),(-0.05,0.05),(-0.28,0.28),(-0.04,0.04),(-0.06,0.06),(-0.14,0.14),(-0.14,0.14)]\n",
    "r1_2_error = [(-17,17),(-15,15),(-21,21),(-16,17),(-10,10),(-15,15),(-18,18),(-16,16)]\n",
    "dist_error = [(-6.0,6.0),(-5.0,5.0),(-4.0,4.0),(-15.0,16.0),(-14.0,14.0),(-3.0,3.0),(-3.0,3.0),(-5.0,5.0)]\n",
    "Vhel_error = [(-0.8,0.7),(-0.1,0.1),(-0.8,0.8),(-0.5,0.5),(-0.6,0.6),(-0.1,0.1),(-0.1,0.1),(-0.1,0.1)]\n",
    "sigma_error = [(-1.2,1.2),(-1.2,1.2),(-1.2,1.2),(-0.4,0.4),(-0.4,0.4),(-1.3,1.3),(-0.9,0.9),(-1.1,1.1)]\n",
    "Fe_H_error = [(-0.02,0.02),(-0.02,0.02),(-0.02,0.03),(-0.01,0.02),(-0.03,0.02),(-0.04,0.04),(-0.01,0.02),(-0.02,0.03)]\n",
    "sigFe_H_error = [(-0.02,0.02),'NAN',(-0.03,0.02),(-0.01,0.01),(-0.02,0.02),(-0.03,0.03),(-0.01,0.01),(-0.02,0.02)]"
   ]
  },
  {
   "cell_type": "code",
   "execution_count": 5,
   "metadata": {},
   "outputs": [],
   "source": [
    "a=pd.read_csv('coor.csv')\n",
    "b=pd.read_csv('dist.csv')\n",
    "c=pd.read_csv('err_ra.csv')\n",
    "e=pd.read_csv('err_dec.csv')\n",
    "h=pd.read_csv(\"js_data.csv\")"
   ]
  },
  {
   "cell_type": "code",
   "execution_count": 6,
   "metadata": {},
   "outputs": [
    {
     "data": {
      "text/plain": [
       "<module 'sat_array' from '/Users/diana/Desktop/research/gaia/galaxies/filtered database/sat_array.py'>"
      ]
     },
     "execution_count": 6,
     "metadata": {},
     "output_type": "execute_result"
    }
   ],
   "source": [
    "import sat_array\n",
    "from importlib import reload\n",
    "reload(sat_array)"
   ]
  },
  {
   "cell_type": "code",
   "execution_count": 7,
   "metadata": {},
   "outputs": [],
   "source": [
    "d = np.zeros(1, dtype=sat_array.mydtype).view(np.recarray)"
   ]
  },
  {
   "cell_type": "code",
   "execution_count": 8,
   "metadata": {},
   "outputs": [],
   "source": [
    "d['gal']=gal"
   ]
  },
  {
   "cell_type": "code",
   "execution_count": 9,
   "metadata": {},
   "outputs": [
    {
     "data": {
      "text/plain": [
       "array([['Draco', 'Carina', 'Ursa Minor', 'Leo I', 'Leo II', 'Sextans',\n",
       "        'Fornax', 'Sculptor']], dtype='<U10')"
      ]
     },
     "execution_count": 9,
     "metadata": {},
     "output_type": "execute_result"
    }
   ],
   "source": [
    "d.gal"
   ]
  },
  {
   "cell_type": "markdown",
   "metadata": {},
   "source": [
    "# DRACO"
   ]
  },
  {
   "cell_type": "code",
   "execution_count": 10,
   "metadata": {},
   "outputs": [],
   "source": [
    "draco = pd.read_csv('draco_filtered.csv')\n",
    "draco_mw = pd.read_csv('draco_mw.csv')"
   ]
  },
  {
   "cell_type": "code",
   "execution_count": 11,
   "metadata": {},
   "outputs": [
    {
     "data": {
      "text/plain": [
       "476"
      ]
     },
     "execution_count": 11,
     "metadata": {},
     "output_type": "execute_result"
    }
   ],
   "source": [
    "len(draco_mw.ra)"
   ]
  },
  {
   "cell_type": "code",
   "execution_count": 12,
   "metadata": {},
   "outputs": [],
   "source": [
    "d['draco_gaia']['ra']=draco.ra\n",
    "d['draco_gaia']['ra_error']=draco.ra_error\n",
    "d['draco_gaia']['dec']=draco.dec\n",
    "d['draco_gaia']['dec_error']=draco.dec_error\n",
    "d['draco_gaia']['pmra']=draco.pmra\n",
    "d['draco_gaia']['pmra_error']=draco.pmra_error\n",
    "d['draco_gaia']['pmdec']=draco.pmdec\n",
    "d['draco_gaia']['pmdec_error']=draco.pmdec_error\n",
    "d['draco_gaia']['par']=draco.parallax\n",
    "d['draco_gaia']['par_error']=draco.parallax_error\n",
    "d['draco_gaia']['par_over_error']=draco.parallax_over_error\n",
    "d['draco_gaia']['ra_dec_corr']=draco.ra_dec_corr\n",
    "d['draco_gaia']['gflux']=draco.phot_g_mean_flux\n",
    "d['draco_gaia']['gmag']=draco.phot_g_mean_mag\n",
    "d['draco_gaia']['bpflux']=draco.phot_bp_mean_flux\n",
    "d['draco_gaia']['bpmag']=draco.phot_bp_mean_mag\n",
    "d['draco_gaia']['rpflux']=draco.phot_rp_mean_flux\n",
    "d['draco_gaia']['rpmag']=draco.phot_rp_mean_mag\n",
    "d['draco_gaia']['bp_rp']=draco.bp_rp\n",
    "d['draco_gaia']['bp_g']=draco.bp_g\n",
    "d['draco_gaia']['g_rp']=draco.g_rp\n",
    "d['draco']['center_ra']=a.ra[0]\n",
    "d['draco']['center_dec']=a.dec[0]\n",
    "d['draco']['center_ra_error']=c_ra_e[0]\n",
    "d['draco']['center_dec_error']=c_dec_e[0]\n",
    "d['draco']['distance']=b.dis[0]\n",
    "d['draco']['diameter']=b.dia[0]\n",
    "d['draco']['avm']=b.avm[0]\n",
    "d['draco']['mass']=mass[0]\n",
    "d['draco']['num']=num[0]\n",
    "d['draco_js']['Mv']=h.Mv[0]\n",
    "d['draco_js']['Mv_error']=Mv_error[0]\n",
    "d['draco_js']['r1_2']=h.r1_2[0]\n",
    "d['draco_js']['r1_2_error']=r1_2_error[0]\n",
    "d['draco_js']['dist']=h.dist[0]\n",
    "d['draco_js']['dist_error']=dist_error[0]\n",
    "d['draco_js']['Vhel']=h.Vhel[0]\n",
    "d['draco_js']['Vhel_error']=Vhel_error[0]\n",
    "d['draco_js']['sigma']=h.sigma[0]\n",
    "d['draco_js']['sigma_error']=sigma_error[0]\n",
    "d['draco_js']['Fe_H']=h.Fe_H[0]\n",
    "d['draco_js']['Fe_H_error']=Fe_H_error[0]\n",
    "d['draco_js']['sigFe_H']=h.sigFe_H[0]\n",
    "d['draco_js']['sigFe_H_error']=sigFe_H_error[0]\n",
    "d['draco_mw']['ra']=draco_mw.ra\n",
    "d['draco_mw']['dec']=draco_mw.dec\n",
    "d['draco_mw']['Vhel']=draco_mw.Vhel\n",
    "d['draco_mw']['Vhel_error']=draco_mw.Vhel_error\n",
    "d['draco_mw']['mem']=draco_mw.mem"
   ]
  },
  {
   "cell_type": "code",
   "execution_count": 13,
   "metadata": {},
   "outputs": [
    {
     "data": {
      "text/plain": [
       "array([ 1.85002383, -1.15957217])"
      ]
     },
     "execution_count": 13,
     "metadata": {},
     "output_type": "execute_result"
    }
   ],
   "source": [
    "d[0].draco.center_ra_error"
   ]
  },
  {
   "cell_type": "code",
   "execution_count": 14,
   "metadata": {},
   "outputs": [
    {
     "data": {
      "text/plain": [
       "array([-290.7])"
      ]
     },
     "execution_count": 14,
     "metadata": {},
     "output_type": "execute_result"
    }
   ],
   "source": [
    "d[0].draco_js.Vhel"
   ]
  },
  {
   "cell_type": "code",
   "execution_count": 15,
   "metadata": {},
   "outputs": [
    {
     "data": {
      "text/plain": [
       "array([0.022])"
      ]
     },
     "execution_count": 15,
     "metadata": {},
     "output_type": "execute_result"
    }
   ],
   "source": [
    "d[0].draco.mass"
   ]
  },
  {
   "cell_type": "code",
   "execution_count": 16,
   "metadata": {},
   "outputs": [
    {
     "data": {
      "text/plain": [
       "array([-0.05, 0.05], dtype=object)"
      ]
     },
     "execution_count": 16,
     "metadata": {},
     "output_type": "execute_result"
    }
   ],
   "source": [
    "d[0].draco_js.Mv_error"
   ]
  },
  {
   "cell_type": "code",
   "execution_count": 17,
   "metadata": {},
   "outputs": [
    {
     "data": {
      "text/plain": [
       "260.0714722"
      ]
     },
     "execution_count": 17,
     "metadata": {},
     "output_type": "execute_result"
    }
   ],
   "source": [
    "d[0].draco_mw.ra[0]"
   ]
  },
  {
   "cell_type": "code",
   "execution_count": 18,
   "metadata": {},
   "outputs": [
    {
     "data": {
      "text/plain": [
       "-278.3"
      ]
     },
     "execution_count": 18,
     "metadata": {},
     "output_type": "execute_result"
    }
   ],
   "source": [
    "d[0].draco_mw.Vhel[0]"
   ]
  },
  {
   "cell_type": "markdown",
   "metadata": {},
   "source": [
    "# CARINA"
   ]
  },
  {
   "cell_type": "code",
   "execution_count": 19,
   "metadata": {},
   "outputs": [],
   "source": [
    "carina=pd.read_csv('carina_filtered.csv')\n",
    "carina_mw=pd.read_csv('carina_mw.csv')"
   ]
  },
  {
   "cell_type": "code",
   "execution_count": 20,
   "metadata": {},
   "outputs": [
    {
     "data": {
      "text/plain": [
       "717"
      ]
     },
     "execution_count": 20,
     "metadata": {},
     "output_type": "execute_result"
    }
   ],
   "source": [
    "len(carina.ra)"
   ]
  },
  {
   "cell_type": "code",
   "execution_count": 21,
   "metadata": {},
   "outputs": [],
   "source": [
    "d['carina_gaia']['ra']=carina.ra\n",
    "d['carina_gaia']['ra_error']=carina.ra_error\n",
    "d['carina_gaia']['dec']=carina.dec\n",
    "d['carina_gaia']['dec_error']=carina.dec_error\n",
    "d['carina_gaia']['pmra']=carina.pmra\n",
    "d['carina_gaia']['pmra_error']=carina.pmra_error\n",
    "d['carina_gaia']['pmdec']=carina.pmdec\n",
    "d['carina_gaia']['pmdec_error']=carina.pmdec_error\n",
    "d['carina_gaia']['par']=carina.parallax\n",
    "d['carina_gaia']['par_error']=carina.parallax_error\n",
    "d['carina_gaia']['par_over_error']=carina.parallax_over_error\n",
    "d['carina_gaia']['ra_dec_corr']=carina.ra_dec_corr\n",
    "d['carina_gaia']['gflux']=carina.phot_g_mean_flux\n",
    "d['carina_gaia']['gmag']=carina.phot_g_mean_mag\n",
    "d['carina_gaia']['bpflux']=carina.phot_bp_mean_flux\n",
    "d['carina_gaia']['bpmag']=carina.phot_bp_mean_mag\n",
    "d['carina_gaia']['rpflux']=carina.phot_rp_mean_flux\n",
    "d['carina_gaia']['rpmag']=carina.phot_rp_mean_mag\n",
    "d['carina_gaia']['bp_rp']=carina.bp_rp\n",
    "d['carina_gaia']['bp_g']=carina.bp_g\n",
    "d['carina_gaia']['g_rp']=carina.g_rp\n",
    "d['carina']['center_ra']=a.ra[1]\n",
    "d['carina']['center_dec']=a.dec[1]\n",
    "d['carina']['distance']=b.dis[1]\n",
    "d['carina']['diameter']=b.dia[1]\n",
    "d['carina']['avm']=b.avm[1]\n",
    "d['carina']['mass']=mass[1]\n",
    "d['carina']['num']=num[1]\n",
    "d['carina_js']['Mv']=h.Mv[1]\n",
    "d['carina_js']['Mv_error']=Mv_error[1]\n",
    "d['carina_js']['r1_2']=h.r1_2[1]\n",
    "d['carina_js']['r1_2_error']=r1_2_error[1]\n",
    "d['carina_js']['dist']=h.dist[1]\n",
    "d['carina_js']['dist_error']=dist_error[1]\n",
    "d['carina_js']['Vhel']=h.Vhel[1]\n",
    "d['carina_js']['Vhel_error']=Vhel_error[1]\n",
    "d['carina_js']['sigma']=h.sigma[1]\n",
    "d['carina_js']['sigma_error']=sigma_error[1]\n",
    "d['carina_js']['Fe_H']=h.Fe_H[1]\n",
    "d['carina_js']['Fe_H_error']=Fe_H_error[1]\n",
    "d['carina_js']['sigFe_H']=h.sigFe_H[1]\n",
    "d['carina_js']['sigFe_H_error']=sigFe_H_error[1]\n",
    "d['carina_mw']['ra']=carina_mw.ra\n",
    "d['carina_mw']['dec']=carina_mw.dec\n",
    "d['carina_mw']['Vhel']=carina_mw.Vhel\n",
    "d['carina_mw']['Vhel_error']=carina_mw.Vhel_error\n",
    "d['carina_mw']['mem']=carina_mw.mem"
   ]
  },
  {
   "cell_type": "code",
   "execution_count": 22,
   "metadata": {},
   "outputs": [
    {
     "data": {
      "text/plain": [
       "99.869435"
      ]
     },
     "execution_count": 22,
     "metadata": {},
     "output_type": "execute_result"
    }
   ],
   "source": [
    "d[0].carina_gaia.ra[0]"
   ]
  },
  {
   "cell_type": "code",
   "execution_count": 23,
   "metadata": {},
   "outputs": [
    {
     "data": {
      "text/plain": [
       "array([0.00151])"
      ]
     },
     "execution_count": 23,
     "metadata": {},
     "output_type": "execute_result"
    }
   ],
   "source": [
    "d[0].carina.mass"
   ]
  },
  {
   "cell_type": "markdown",
   "metadata": {},
   "source": [
    "# UMI"
   ]
  },
  {
   "cell_type": "code",
   "execution_count": 24,
   "metadata": {},
   "outputs": [],
   "source": [
    "umi=pd.read_csv('ursmin_filtered.csv')\n",
    "umi_mw=pd.read_csv('ursaminor_mw.csv')"
   ]
  },
  {
   "cell_type": "code",
   "execution_count": 25,
   "metadata": {},
   "outputs": [
    {
     "data": {
      "text/plain": [
       "309"
      ]
     },
     "execution_count": 25,
     "metadata": {},
     "output_type": "execute_result"
    }
   ],
   "source": [
    "len(umi.ra)"
   ]
  },
  {
   "cell_type": "code",
   "execution_count": 26,
   "metadata": {},
   "outputs": [],
   "source": [
    "d['umi_gaia']['ra']=umi.ra\n",
    "d['umi_gaia']['ra_error']=umi.ra_error\n",
    "d['umi_gaia']['dec']=umi.dec\n",
    "d['umi_gaia']['dec_error']=umi.dec_error\n",
    "d['umi_gaia']['pmra']=umi.pmra\n",
    "d['umi_gaia']['pmra_error']=umi.pmra_error\n",
    "d['umi_gaia']['pmdec']=umi.pmdec\n",
    "d['umi_gaia']['pmdec_error']=umi.pmdec_error\n",
    "d['umi_gaia']['par']=umi.parallax\n",
    "d['umi_gaia']['par_error']=umi.parallax_error\n",
    "d['umi_gaia']['par_over_error']=umi.parallax_over_error\n",
    "d['umi_gaia']['ra_dec_corr']=umi.ra_dec_corr\n",
    "d['umi_gaia']['gflux']=umi.phot_g_mean_flux\n",
    "d['umi_gaia']['gmag']=umi.phot_g_mean_mag\n",
    "d['umi_gaia']['bpflux']=umi.phot_bp_mean_flux\n",
    "d['umi_gaia']['bpmag']=umi.phot_bp_mean_mag\n",
    "d['umi_gaia']['rpflux']=umi.phot_rp_mean_flux\n",
    "d['umi_gaia']['rpmag']=umi.phot_rp_mean_mag\n",
    "d['umi_gaia']['bp_rp']=umi.bp_rp\n",
    "d['umi_gaia']['bp_g']=umi.bp_g\n",
    "d['umi_gaia']['g_rp']=umi.g_rp\n",
    "d['umi']['center_ra']=a.ra[2]\n",
    "d['umi']['center_dec']=a.dec[2]\n",
    "d['umi']['distance']=b.dis[2]\n",
    "d['umi']['diameter']=b.dia[2]\n",
    "d['umi']['avm']=b.avm[2]\n",
    "d['umi']['mass']=mass[2]\n",
    "d['umi']['num']=num[2]\n",
    "d['umi_js']['Mv']=h.Mv[2]\n",
    "d['umi_js']['Mv_error']=Mv_error[2]\n",
    "d['umi_js']['r1_2']=h.r1_2[2]\n",
    "d['umi_js']['r1_2_error']=r1_2_error[2]\n",
    "d['umi_js']['dist']=h.dist[2]\n",
    "d['umi_js']['dist_error']=dist_error[2]\n",
    "d['umi_js']['Vhel']=h.Vhel[2]\n",
    "d['umi_js']['Vhel_error']=Vhel_error[2]\n",
    "d['umi_js']['sigma']=h.sigma[2]\n",
    "d['umi_js']['sigma_error']=sigma_error[2]\n",
    "d['umi_js']['Fe_H']=h.Fe_H[2]\n",
    "d['umi_js']['Fe_H_error']=Fe_H_error[2]\n",
    "d['umi_js']['sigFe_H']=h.sigFe_H[2]\n",
    "d['umi_js']['sigFe_H_error']=sigFe_H_error[2]\n",
    "d['umi_mw']['ra']=umi_mw.ra\n",
    "d['umi_mw']['dec']=umi_mw.dec\n",
    "d['umi_mw']['Vhel']=umi_mw.Vhel\n",
    "d['umi_mw']['Vhel_error']=umi_mw.Vhel_error\n",
    "d['umi_mw']['mem']=umi_mw.mem"
   ]
  },
  {
   "cell_type": "code",
   "execution_count": 27,
   "metadata": {},
   "outputs": [
    {
     "data": {
      "text/plain": [
       "226.62101099999998"
      ]
     },
     "execution_count": 27,
     "metadata": {},
     "output_type": "execute_result"
    }
   ],
   "source": [
    "d[0].umi_gaia.ra[0]"
   ]
  },
  {
   "cell_type": "code",
   "execution_count": 28,
   "metadata": {},
   "outputs": [
    {
     "data": {
      "text/plain": [
       "array([nan])"
      ]
     },
     "execution_count": 28,
     "metadata": {},
     "output_type": "execute_result"
    }
   ],
   "source": [
    "d[0].umi.mass"
   ]
  },
  {
   "cell_type": "markdown",
   "metadata": {},
   "source": [
    "# LEO1"
   ]
  },
  {
   "cell_type": "code",
   "execution_count": 29,
   "metadata": {},
   "outputs": [],
   "source": [
    "leo1=pd.read_csv('leo1_filtered.csv')\n",
    "leo1_mw=pd.read_csv('leo1_mw.csv')"
   ]
  },
  {
   "cell_type": "code",
   "execution_count": 30,
   "metadata": {},
   "outputs": [
    {
     "data": {
      "text/plain": [
       "327"
      ]
     },
     "execution_count": 30,
     "metadata": {},
     "output_type": "execute_result"
    }
   ],
   "source": [
    "len(leo1_mw.ra)"
   ]
  },
  {
   "cell_type": "code",
   "execution_count": 31,
   "metadata": {},
   "outputs": [],
   "source": [
    "d['leo1_gaia']['ra']=leo1.ra\n",
    "d['leo1_gaia']['ra_error']=leo1.ra_error\n",
    "d['leo1_gaia']['dec']=leo1.dec\n",
    "d['leo1_gaia']['dec_error']=leo1.dec_error\n",
    "d['leo1_gaia']['pmra']=leo1.pmra\n",
    "d['leo1_gaia']['pmra_error']=leo1.pmra_error\n",
    "d['leo1_gaia']['pmdec']=leo1.pmdec\n",
    "d['leo1_gaia']['pmdec_error']=leo1.pmdec_error\n",
    "d['leo1_gaia']['par']=leo1.parallax\n",
    "d['leo1_gaia']['par_error']=leo1.parallax_error\n",
    "d['leo1_gaia']['par_over_error']=leo1.parallax_over_error\n",
    "d['leo1_gaia']['ra_dec_corr']=leo1.ra_dec_corr\n",
    "d['leo1_gaia']['gflux']=leo1.phot_g_mean_flux\n",
    "d['leo1_gaia']['gmag']=leo1.phot_g_mean_mag\n",
    "d['leo1_gaia']['bpflux']=leo1.phot_bp_mean_flux\n",
    "d['leo1_gaia']['bpmag']=leo1.phot_bp_mean_mag\n",
    "d['leo1_gaia']['rpflux']=leo1.phot_rp_mean_flux\n",
    "d['leo1_gaia']['rpmag']=leo1.phot_rp_mean_mag\n",
    "d['leo1_gaia']['bp_rp']=leo1.bp_rp\n",
    "d['leo1_gaia']['bp_g']=leo1.bp_g\n",
    "d['leo1_gaia']['g_rp']=leo1.g_rp\n",
    "d['leo1']['center_ra']=a.ra[3]\n",
    "d['leo1']['center_dec']=a.dec[3]\n",
    "d['leo1']['distance']=b.dis[3]\n",
    "d['leo1']['diameter']=b.dia[3]\n",
    "d['leo1']['avm']=b.avm[3]\n",
    "d['leo1']['mass']=mass[3]\n",
    "d['leo1']['num']=num[3]\n",
    "d['leo1_js']['Mv']=h.Mv[3]\n",
    "d['leo1_js']['Mv_error']=Mv_error[3]\n",
    "d['leo1_js']['r1_2']=h.r1_2[3]\n",
    "d['leo1_js']['r1_2_error']=r1_2_error[3]\n",
    "d['leo1_js']['dist']=h.dist[3]\n",
    "d['leo1_js']['dist_error']=dist_error[3]\n",
    "d['leo1_js']['Vhel']=h.Vhel[3]\n",
    "d['leo1_js']['Vhel_error']=Vhel_error[3]\n",
    "d['leo1_js']['sigma']=h.sigma[3]\n",
    "d['leo1_js']['sigma_error']=sigma_error[3]\n",
    "d['leo1_js']['Fe_H']=h.Fe_H[3]\n",
    "d['leo1_js']['Fe_H_error']=Fe_H_error[3]\n",
    "d['leo1_js']['sigFe_H']=h.sigFe_H[3]\n",
    "d['leo1_js']['sigFe_H_error']=sigFe_H_error[3]\n",
    "d['leo1_mw']['ra']=leo1_mw.ra\n",
    "d['leo1_mw']['dec']=leo1_mw.dec\n",
    "d['leo1_mw']['Vhel']=leo1_mw.Vhel\n",
    "d['leo1_mw']['Vhel_error']=leo1_mw.Vhel_error\n",
    "d['leo1_mw']['mem']=leo1_mw.mem"
   ]
  },
  {
   "cell_type": "code",
   "execution_count": 32,
   "metadata": {},
   "outputs": [
    {
     "data": {
      "text/plain": [
       "152.122504"
      ]
     },
     "execution_count": 32,
     "metadata": {},
     "output_type": "execute_result"
    }
   ],
   "source": [
    "d[0].leo1_gaia.ra[0]"
   ]
  },
  {
   "cell_type": "code",
   "execution_count": 33,
   "metadata": {},
   "outputs": [
    {
     "data": {
      "text/plain": [
       "array([0.02])"
      ]
     },
     "execution_count": 33,
     "metadata": {},
     "output_type": "execute_result"
    }
   ],
   "source": [
    "d[0].leo1.mass"
   ]
  },
  {
   "cell_type": "markdown",
   "metadata": {},
   "source": [
    "# LEO2"
   ]
  },
  {
   "cell_type": "code",
   "execution_count": 34,
   "metadata": {},
   "outputs": [],
   "source": [
    "leo2=pd.read_csv('leo2_filtered.csv')\n",
    "leo2_mw=pd.read_csv('leo2_mw.csv')"
   ]
  },
  {
   "cell_type": "code",
   "execution_count": 35,
   "metadata": {},
   "outputs": [
    {
     "data": {
      "text/plain": [
       "175"
      ]
     },
     "execution_count": 35,
     "metadata": {},
     "output_type": "execute_result"
    }
   ],
   "source": [
    "len(leo2_mw.ra)"
   ]
  },
  {
   "cell_type": "code",
   "execution_count": 36,
   "metadata": {},
   "outputs": [],
   "source": [
    "d['leo2_gaia']['ra']=leo2.ra\n",
    "d['leo2_gaia']['ra_error']=leo2.ra_error\n",
    "d['leo2_gaia']['dec']=leo2.dec\n",
    "d['leo2_gaia']['dec_error']=leo2.dec_error\n",
    "d['leo2_gaia']['pmra']=leo2.pmra\n",
    "d['leo2_gaia']['pmra_error']=leo2.pmra_error\n",
    "d['leo2_gaia']['pmdec']=leo2.pmdec\n",
    "d['leo2_gaia']['pmdec_error']=leo2.pmdec_error\n",
    "d['leo2_gaia']['par']=leo2.parallax\n",
    "d['leo2_gaia']['par_error']=leo2.parallax_error\n",
    "d['leo2_gaia']['par_over_error']=leo2.parallax_over_error\n",
    "d['leo2_gaia']['ra_dec_corr']=leo2.ra_dec_corr\n",
    "d['leo2_gaia']['gflux']=leo2.phot_g_mean_flux\n",
    "d['leo2_gaia']['gmag']=leo2.phot_g_mean_mag\n",
    "d['leo2_gaia']['bpflux']=leo2.phot_bp_mean_flux\n",
    "d['leo2_gaia']['bpmag']=leo2.phot_bp_mean_mag\n",
    "d['leo2_gaia']['rpflux']=leo2.phot_rp_mean_flux\n",
    "d['leo2_gaia']['rpmag']=leo2.phot_rp_mean_mag\n",
    "d['leo2_gaia']['bp_rp']=leo2.bp_rp\n",
    "d['leo2_gaia']['bp_g']=leo2.bp_g\n",
    "d['leo2_gaia']['g_rp']=leo2.g_rp\n",
    "d['leo2']['center_ra']=a.ra[4]\n",
    "d['leo2']['center_dec']=a.dec[4]\n",
    "d['leo2']['distance']=b.dis[4]\n",
    "d['leo2']['diameter']=b.dia[4]\n",
    "d['leo2']['avm']=b.avm[4]\n",
    "d['leo2']['mass']=mass[4]\n",
    "d['leo2']['num']=num[4]\n",
    "d['leo2_js']['Mv']=h.Mv[4]\n",
    "d['leo2_js']['Mv_error']=Mv_error[4]\n",
    "d['leo2_js']['r1_2']=h.r1_2[4]\n",
    "d['leo2_js']['r1_2_error']=r1_2_error[4]\n",
    "d['leo2_js']['dist']=h.dist[4]\n",
    "d['leo2_js']['dist_error']=dist_error[4]\n",
    "d['leo2_js']['Vhel']=h.Vhel[4]\n",
    "d['leo2_js']['Vhel_error']=Vhel_error[4]\n",
    "d['leo2_js']['sigma']=h.sigma[4]\n",
    "d['leo2_js']['sigma_error']=sigma_error[4]\n",
    "d['leo2_js']['Fe_H']=h.Fe_H[4]\n",
    "d['leo2_js']['Fe_H_error']=Fe_H_error[4]\n",
    "d['leo2_js']['sigFe_H']=h.sigFe_H[4]\n",
    "d['leo2_js']['sigFe_H_error']=sigFe_H_error[4]\n",
    "d['leo2_mw']['ra']=leo2_mw.ra\n",
    "d['leo2_mw']['dec']=leo2_mw.dec\n",
    "d['leo2_mw']['Vhel']=leo2_mw.Vhel\n",
    "d['leo2_mw']['Vhel_error']=leo2_mw.Vhel_error\n",
    "d['leo2_mw']['Fe_H']=leo2_mw.Fe_H\n",
    "d['leo2_mw']['Fe_H_error']=leo2_mw.Fe_H_error\n",
    "d['leo2_mw']['mem']=leo2_mw.mem"
   ]
  },
  {
   "cell_type": "code",
   "execution_count": 37,
   "metadata": {},
   "outputs": [
    {
     "data": {
      "text/plain": [
       "168.38355900000002"
      ]
     },
     "execution_count": 37,
     "metadata": {},
     "output_type": "execute_result"
    }
   ],
   "source": [
    "d[0].leo2_gaia.ra[0]"
   ]
  },
  {
   "cell_type": "code",
   "execution_count": 38,
   "metadata": {},
   "outputs": [
    {
     "data": {
      "text/plain": [
       "array([0.027])"
      ]
     },
     "execution_count": 38,
     "metadata": {},
     "output_type": "execute_result"
    }
   ],
   "source": [
    "d[0].leo2.mass"
   ]
  },
  {
   "cell_type": "markdown",
   "metadata": {},
   "source": [
    "# SEXTANS"
   ]
  },
  {
   "cell_type": "code",
   "execution_count": 39,
   "metadata": {},
   "outputs": [],
   "source": [
    "sextans=pd.read_csv('sextans_filtered.csv')\n",
    "sextans_mw=pd.read_csv('sextans_mw.csv')"
   ]
  },
  {
   "cell_type": "code",
   "execution_count": 40,
   "metadata": {},
   "outputs": [
    {
     "data": {
      "text/plain": [
       "424"
      ]
     },
     "execution_count": 40,
     "metadata": {},
     "output_type": "execute_result"
    }
   ],
   "source": [
    "len(sextans_mw.ra)"
   ]
  },
  {
   "cell_type": "code",
   "execution_count": 41,
   "metadata": {},
   "outputs": [],
   "source": [
    "d['sextans_gaia']['ra']=sextans.ra\n",
    "d['sextans_gaia']['ra_error']=sextans.ra_error\n",
    "d['sextans_gaia']['dec']=sextans.dec\n",
    "d['sextans_gaia']['dec_error']=sextans.dec_error\n",
    "d['sextans_gaia']['pmra']=sextans.pmra\n",
    "d['sextans_gaia']['pmra_error']=sextans.pmra_error\n",
    "d['sextans_gaia']['pmdec']=sextans.pmdec\n",
    "d['sextans_gaia']['pmdec_error']=sextans.pmdec_error\n",
    "d['sextans_gaia']['par']=sextans.parallax\n",
    "d['sextans_gaia']['par_error']=sextans.parallax_error\n",
    "d['sextans_gaia']['par_over_error']=sextans.parallax_over_error\n",
    "d['sextans_gaia']['ra_dec_corr']=sextans.ra_dec_corr\n",
    "d['sextans_gaia']['gflux']=sextans.phot_g_mean_flux\n",
    "d['sextans_gaia']['gmag']=sextans.phot_g_mean_mag\n",
    "d['sextans_gaia']['bpflux']=sextans.phot_bp_mean_flux\n",
    "d['sextans_gaia']['bpmag']=sextans.phot_bp_mean_mag\n",
    "d['sextans_gaia']['rpflux']=sextans.phot_rp_mean_flux\n",
    "d['sextans_gaia']['rpmag']=sextans.phot_rp_mean_mag\n",
    "d['sextans_gaia']['bp_rp']=sextans.bp_rp\n",
    "d['sextans_gaia']['bp_g']=sextans.bp_g\n",
    "d['sextans_gaia']['g_rp']=sextans.g_rp\n",
    "d['sextans']['center_ra']=a.ra[5]\n",
    "d['sextans']['center_dec']=a.dec[5]\n",
    "d['sextans']['distance']=b.dis[5]\n",
    "d['sextans']['diameter']=b.dia[5]\n",
    "d['sextans']['avm']=b.avm[5]\n",
    "d['sextans']['mass']=mass[5]\n",
    "d['sextans']['num']=num[5]\n",
    "d['sextans_js']['Mv']=h.Mv[5]\n",
    "d['sextans_js']['Mv_error']=Mv_error[5]\n",
    "d['sextans_js']['r1_2']=h.r1_2[5]\n",
    "d['sextans_js']['r1_2_error']=r1_2_error[5]\n",
    "d['sextans_js']['dist']=h.dist[5]\n",
    "d['sextans_js']['dist_error']=dist_error[5]\n",
    "d['sextans_js']['Vhel']=h.Vhel[5]\n",
    "d['sextans_js']['Vhel_error']=Vhel_error[5]\n",
    "d['sextans_js']['sigma']=h.sigma[5]\n",
    "d['sextans_js']['sigma_error']=sigma_error[5]\n",
    "d['sextans_js']['Fe_H']=h.Fe_H[5]\n",
    "d['sextans_js']['Fe_H_error']=Fe_H_error[5]\n",
    "d['sextans_js']['sigFe_H']=h.sigFe_H[5]\n",
    "d['sextans_js']['sigFe_H_error']=sigFe_H_error[5]\n",
    "d['sextans_mw']['ra']=sextans_mw.ra\n",
    "d['sextans_mw']['dec']=sextans_mw.dec\n",
    "d['sextans_mw']['Vhel']=sextans_mw.Vhel\n",
    "d['sextans_mw']['Vhel_error']=sextans_mw.Vhel_error\n",
    "d['sextans_mw']['mem']=sextans_mw.mem"
   ]
  },
  {
   "cell_type": "code",
   "execution_count": 42,
   "metadata": {},
   "outputs": [
    {
     "data": {
      "text/plain": [
       "152.960274"
      ]
     },
     "execution_count": 42,
     "metadata": {},
     "output_type": "execute_result"
    }
   ],
   "source": [
    "d[0].sextans_gaia.ra[0]"
   ]
  },
  {
   "cell_type": "code",
   "execution_count": 43,
   "metadata": {},
   "outputs": [
    {
     "data": {
      "text/plain": [
       "array([0.3])"
      ]
     },
     "execution_count": 43,
     "metadata": {},
     "output_type": "execute_result"
    }
   ],
   "source": [
    "d[0].sextans.mass"
   ]
  },
  {
   "cell_type": "markdown",
   "metadata": {},
   "source": [
    "# FORNAX"
   ]
  },
  {
   "cell_type": "code",
   "execution_count": 44,
   "metadata": {},
   "outputs": [],
   "source": [
    "fornax=pd.read_csv('fornax_filtered.csv')\n",
    "fornax_mw=pd.read_csv('fornax_mw.csv')"
   ]
  },
  {
   "cell_type": "code",
   "execution_count": 45,
   "metadata": {},
   "outputs": [
    {
     "data": {
      "text/plain": [
       "2409"
      ]
     },
     "execution_count": 45,
     "metadata": {},
     "output_type": "execute_result"
    }
   ],
   "source": [
    "len(fornax_mw.ra)"
   ]
  },
  {
   "cell_type": "code",
   "execution_count": 46,
   "metadata": {},
   "outputs": [],
   "source": [
    "d['fornax_gaia']['ra']=fornax.ra\n",
    "d['fornax_gaia']['ra_error']=fornax.ra_error\n",
    "d['fornax_gaia']['dec']=fornax.dec\n",
    "d['fornax_gaia']['dec_error']=fornax.dec_error\n",
    "d['fornax_gaia']['pmra']=fornax.pmra\n",
    "d['fornax_gaia']['pmra_error']=fornax.pmra_error\n",
    "d['fornax_gaia']['pmdec']=fornax.pmdec\n",
    "d['fornax_gaia']['pmdec_error']=fornax.pmdec_error\n",
    "d['fornax_gaia']['par']=fornax.parallax\n",
    "d['fornax_gaia']['par_error']=fornax.parallax_error\n",
    "d['fornax_gaia']['par_over_error']=fornax.parallax_over_error\n",
    "d['fornax_gaia']['ra_dec_corr']=fornax.ra_dec_corr\n",
    "d['fornax_gaia']['gflux']=fornax.phot_g_mean_flux\n",
    "d['fornax_gaia']['gmag']=fornax.phot_g_mean_mag\n",
    "d['fornax_gaia']['bpflux']=fornax.phot_bp_mean_flux\n",
    "d['fornax_gaia']['bpmag']=fornax.phot_bp_mean_mag\n",
    "d['fornax_gaia']['rpflux']=fornax.phot_rp_mean_flux\n",
    "d['fornax_gaia']['rpmag']=fornax.phot_rp_mean_mag\n",
    "d['fornax_gaia']['bp_rp']=fornax.bp_rp\n",
    "d['fornax_gaia']['bp_g']=fornax.bp_g\n",
    "d['fornax_gaia']['g_rp']=fornax.g_rp\n",
    "d['fornax']['center_ra']=a.ra[6]\n",
    "d['fornax']['center_dec']=a.dec[6]\n",
    "d['fornax']['distance']=b.dis[6]\n",
    "d['fornax']['diameter']=b.dia[6]\n",
    "d['fornax']['avm']=b.avm[6]\n",
    "d['fornax']['mass']=mass[6]\n",
    "d['fornax']['num']=num[6]\n",
    "d['fornax_js']['Mv']=h.Mv[6]\n",
    "d['fornax_js']['Mv_error']=Mv_error[6]\n",
    "d['fornax_js']['r1_2']=h.r1_2[6]\n",
    "d['fornax_js']['r1_2_error']=r1_2_error[6]\n",
    "d['fornax_js']['dist']=h.dist[6]\n",
    "d['fornax_js']['dist_error']=dist_error[6]\n",
    "d['fornax_js']['Vhel']=h.Vhel[6]\n",
    "d['fornax_js']['Vhel_error']=Vhel_error[6]\n",
    "d['fornax_js']['sigma']=h.sigma[6]\n",
    "d['fornax_js']['sigma_error']=sigma_error[6]\n",
    "d['fornax_js']['Fe_H']=h.Fe_H[6]\n",
    "d['fornax_js']['Fe_H_error']=Fe_H_error[6]\n",
    "d['fornax_js']['sigFe_H']=h.sigFe_H[6]\n",
    "d['fornax_js']['sigFe_H_error']=sigFe_H_error[6]\n",
    "d['fornax_mw']['ra']=fornax_mw.ra\n",
    "d['fornax_mw']['dec']=fornax_mw.dec\n",
    "d['fornax_mw']['Vhel']=fornax_mw.Vhel\n",
    "d['fornax_mw']['Vhel_error']=fornax_mw.Vhel_error\n",
    "d['fornax_mw']['mem']=fornax_mw.mem"
   ]
  },
  {
   "cell_type": "code",
   "execution_count": 47,
   "metadata": {},
   "outputs": [
    {
     "data": {
      "text/plain": [
       "39.899609000000005"
      ]
     },
     "execution_count": 47,
     "metadata": {},
     "output_type": "execute_result"
    }
   ],
   "source": [
    "d[0].fornax_gaia.ra[0]"
   ]
  },
  {
   "cell_type": "code",
   "execution_count": 48,
   "metadata": {},
   "outputs": [
    {
     "data": {
      "text/plain": [
       "array([0.054])"
      ]
     },
     "execution_count": 48,
     "metadata": {},
     "output_type": "execute_result"
    }
   ],
   "source": [
    "d[0].fornax.mass"
   ]
  },
  {
   "cell_type": "markdown",
   "metadata": {},
   "source": [
    "# SCULPTOR"
   ]
  },
  {
   "cell_type": "code",
   "execution_count": 49,
   "metadata": {},
   "outputs": [],
   "source": [
    "sculptor=pd.read_csv('sculptor_filtered.csv')\n",
    "sculptor_mw=pd.read_csv('sculptor_mw.csv')"
   ]
  },
  {
   "cell_type": "code",
   "execution_count": 50,
   "metadata": {},
   "outputs": [
    {
     "data": {
      "text/plain": [
       "1349"
      ]
     },
     "execution_count": 50,
     "metadata": {},
     "output_type": "execute_result"
    }
   ],
   "source": [
    "len(sculptor_mw.ra)"
   ]
  },
  {
   "cell_type": "code",
   "execution_count": 51,
   "metadata": {},
   "outputs": [],
   "source": [
    "d['sculptor_gaia']['ra']=sculptor.ra\n",
    "d['sculptor_gaia']['ra_error']=sculptor.ra_error\n",
    "d['sculptor_gaia']['dec']=sculptor.dec\n",
    "d['sculptor_gaia']['dec_error']=sculptor.dec_error\n",
    "d['sculptor_gaia']['pmra']=sculptor.pmra\n",
    "d['sculptor_gaia']['pmra_error']=sculptor.pmra_error\n",
    "d['sculptor_gaia']['pmdec']=sculptor.pmdec\n",
    "d['sculptor_gaia']['pmdec_error']=sculptor.pmdec_error\n",
    "d['sculptor_gaia']['par']=sculptor.parallax\n",
    "d['sculptor_gaia']['par_error']=sculptor.parallax_error\n",
    "d['sculptor_gaia']['par_over_error']=sculptor.parallax_over_error\n",
    "d['sculptor_gaia']['ra_dec_corr']=sculptor.ra_dec_corr\n",
    "d['sculptor_gaia']['gflux']=sculptor.phot_g_mean_flux\n",
    "d['sculptor_gaia']['gmag']=sculptor.phot_g_mean_mag\n",
    "d['sculptor_gaia']['bpflux']=sculptor.phot_bp_mean_flux\n",
    "d['sculptor_gaia']['bpmag']=sculptor.phot_bp_mean_mag\n",
    "d['sculptor_gaia']['rpflux']=sculptor.phot_rp_mean_flux\n",
    "d['sculptor_gaia']['rpmag']=sculptor.phot_rp_mean_mag\n",
    "d['sculptor_gaia']['bp_rp']=sculptor.bp_rp\n",
    "d['sculptor_gaia']['bp_g']=sculptor.bp_g\n",
    "d['sculptor_gaia']['g_rp']=sculptor.g_rp\n",
    "d['sculptor']['center_ra']=a.ra[7]\n",
    "d['sculptor']['center_dec']=a.dec[7]\n",
    "d['sculptor']['distance']=b.dis[7]\n",
    "d['sculptor']['diameter']=b.dia[7]\n",
    "d['sculptor']['avm']=b.avm[7]\n",
    "d['sculptor']['mass']=mass[7]\n",
    "d['sculptor']['num']=num[7]\n",
    "d['sculptor_js']['Mv']=h.Mv[7]\n",
    "d['sculptor_js']['Mv_error']=Mv_error[7]\n",
    "d['sculptor_js']['r1_2']=h.r1_2[7]\n",
    "d['sculptor_js']['r1_2_error']=r1_2_error[7]\n",
    "d['sculptor_js']['dist']=h.dist[7]\n",
    "d['sculptor_js']['dist_error']=dist_error[7]\n",
    "d['sculptor_js']['Vhel']=h.Vhel[7]\n",
    "d['sculptor_js']['Vhel_error']=Vhel_error[7]\n",
    "d['sculptor_js']['sigma']=h.sigma[7]\n",
    "d['sculptor_js']['sigma_error']=sigma_error[7]\n",
    "d['sculptor_js']['Fe_H']=h.Fe_H[7]\n",
    "d['sculptor_js']['Fe_H_error']=Fe_H_error[7]\n",
    "d['sculptor_js']['sigFe_H']=h.sigFe_H[7]\n",
    "d['sculptor_js']['sigFe_H_error']=sigFe_H_error[7]\n",
    "d['sculptor_mw']['ra']=sculptor_mw.ra\n",
    "d['sculptor_mw']['dec']=sculptor_mw.dec\n",
    "d['sculptor_mw']['Vhel']=sculptor_mw.Vhel\n",
    "d['sculptor_mw']['Vhel_error']=sculptor_mw.Vhel_error\n",
    "d['sculptor_mw']['mem']=sculptor_mw.mem"
   ]
  },
  {
   "cell_type": "code",
   "execution_count": 52,
   "metadata": {},
   "outputs": [
    {
     "data": {
      "text/plain": [
       "15.081704"
      ]
     },
     "execution_count": 52,
     "metadata": {},
     "output_type": "execute_result"
    }
   ],
   "source": [
    "d[0].sculptor_gaia.ra[0]"
   ]
  },
  {
   "cell_type": "code",
   "execution_count": 53,
   "metadata": {},
   "outputs": [
    {
     "data": {
      "text/plain": [
       "array([nan])"
      ]
     },
     "execution_count": 53,
     "metadata": {},
     "output_type": "execute_result"
    }
   ],
   "source": [
    "d[0].sculptor.mass"
   ]
  },
  {
   "cell_type": "code",
   "execution_count": null,
   "metadata": {},
   "outputs": [],
   "source": []
  }
 ],
 "metadata": {
  "kernelspec": {
   "display_name": "Python 3",
   "language": "python",
   "name": "python3"
  },
  "language_info": {
   "codemirror_mode": {
    "name": "ipython",
    "version": 3
   },
   "file_extension": ".py",
   "mimetype": "text/x-python",
   "name": "python",
   "nbconvert_exporter": "python",
   "pygments_lexer": "ipython3",
   "version": "3.7.6"
  }
 },
 "nbformat": 4,
 "nbformat_minor": 4
}
